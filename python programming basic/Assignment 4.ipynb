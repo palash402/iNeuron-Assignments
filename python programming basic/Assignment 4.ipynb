{
 "cells": [
  {
   "cell_type": "markdown",
   "id": "71a05aee",
   "metadata": {},
   "source": [
    "### 1.Write a Python Program to Find the Factorial of a Number?"
   ]
  },
  {
   "cell_type": "code",
   "execution_count": 9,
   "id": "d70cd237",
   "metadata": {},
   "outputs": [
    {
     "name": "stdout",
     "output_type": "stream",
     "text": [
      "1\n"
     ]
    },
    {
     "data": {
      "text/plain": [
       "1"
      ]
     },
     "execution_count": 9,
     "metadata": {},
     "output_type": "execute_result"
    }
   ],
   "source": [
    "def factorial(num):\n",
    "    fact=1\n",
    "    try:\n",
    "        for i in range(1,num+1):\n",
    "            fact*=i\n",
    "        return fact\n",
    "    except Exception as e:\n",
    "        print(\"error\",e)\n",
    "\n",
    "factorial(int(input()))"
   ]
  },
  {
   "cell_type": "markdown",
   "id": "9a0e3f96",
   "metadata": {},
   "source": [
    "### 2. Write a Python Program to Display the multiplication Table?"
   ]
  },
  {
   "cell_type": "code",
   "execution_count": 10,
   "id": "2a137794",
   "metadata": {},
   "outputs": [
    {
     "name": "stdout",
     "output_type": "stream",
     "text": [
      "12\n",
      "12 X 1 = 12\n",
      "12 X 2 = 24\n",
      "12 X 3 = 36\n",
      "12 X 4 = 48\n",
      "12 X 5 = 60\n",
      "12 X 6 = 72\n",
      "12 X 7 = 84\n",
      "12 X 8 = 96\n",
      "12 X 9 = 108\n",
      "12 X 10 = 120\n"
     ]
    }
   ],
   "source": [
    "def multiplication_table(num):\n",
    "    for i in range(1,11):\n",
    "        print(num,\"X\",i,\"=\",num*i)\n",
    "\n",
    "multiplication_table(int(input()))"
   ]
  },
  {
   "cell_type": "markdown",
   "id": "c2246144",
   "metadata": {},
   "source": [
    "### 3. Write a Python Program to Print the Fibonacci sequence?"
   ]
  },
  {
   "cell_type": "code",
   "execution_count": 17,
   "id": "2d964f00",
   "metadata": {},
   "outputs": [
    {
     "name": "stdout",
     "output_type": "stream",
     "text": [
      "enter number of fibonacci numbers to print : 9\n",
      "0\n",
      "1\n",
      "1\n",
      "2\n",
      "3\n",
      "5\n",
      "8\n",
      "13\n",
      "21\n",
      "34\n"
     ]
    }
   ],
   "source": [
    "# assuming fibonacci numbers starts from 0, i.e., 0,1,1,2,3,5.... and so on.\n",
    "def fibonacci(num):\n",
    "    try:\n",
    "        a=0\n",
    "        b=1\n",
    "        if num<1:\n",
    "            print(\"invalid number\")\n",
    "        elif num==1:\n",
    "            print(a)\n",
    "        elif num==2:\n",
    "            print(a)\n",
    "            print(b)\n",
    "        else:\n",
    "            print(a)\n",
    "            print(b)\n",
    "            for i in range(2,num+1):\n",
    "                c=a+b\n",
    "                print(c)\n",
    "                a=b\n",
    "                b=c\n",
    "    except Exception as e:\n",
    "        print(error,e)\n",
    "        \n",
    "fibonacci(int(input(\"enter number of fibonacci numbers to print : \")))"
   ]
  },
  {
   "cell_type": "markdown",
   "id": "773533fc",
   "metadata": {},
   "source": [
    "### 4. Write a Python Program to Check Armstrong Number?"
   ]
  },
  {
   "cell_type": "code",
   "execution_count": 29,
   "id": "727823df",
   "metadata": {},
   "outputs": [
    {
     "name": "stdout",
     "output_type": "stream",
     "text": [
      "enter number : 5698\n",
      "it is not a armstrong number\n"
     ]
    }
   ],
   "source": [
    "# considering general case where number can be of any length\n",
    "def check_armstrong(num):\n",
    "    try:\n",
    "#         to find length of num\n",
    "        temp=num\n",
    "        length = 0    #length of the number\n",
    "        while temp>0:\n",
    "            temp//=10\n",
    "            length+=1\n",
    "        \n",
    "        temp=num\n",
    "        res=0\n",
    "        while temp>0:\n",
    "            r=temp%10\n",
    "            res=res+r**length\n",
    "            temp//=10\n",
    "        \n",
    "        if res==num:\n",
    "            return True\n",
    "        else:\n",
    "            return False\n",
    "        \n",
    "    except Exception as e:\n",
    "        print(\"error\",e)\n",
    "\n",
    "if check_armstrong(int(input(\"enter number : \"))):\n",
    "    print(\"it is a armstrong number\")\n",
    "else:\n",
    "    print(\"it is not a armstrong number\")\n",
    "    \n",
    "    "
   ]
  },
  {
   "cell_type": "markdown",
   "id": "49dc576e",
   "metadata": {},
   "source": [
    "\n",
    "### 5. Write a Python Program to Find Armstrong Number in an Interval?"
   ]
  },
  {
   "cell_type": "code",
   "execution_count": 32,
   "id": "a55390d4",
   "metadata": {},
   "outputs": [
    {
     "name": "stdout",
     "output_type": "stream",
     "text": [
      "153\n",
      "370\n",
      "371\n",
      "407\n"
     ]
    }
   ],
   "source": [
    "def armstrong_in_range(start,end):\n",
    "    for i in range(start,end+1):\n",
    "        if check_armstrong(i):\n",
    "            print(i)\n",
    "\n",
    "armstrong_in_range(10,500)"
   ]
  },
  {
   "cell_type": "markdown",
   "id": "7b5b1113",
   "metadata": {},
   "source": [
    "### 6. Write a Python Program to Find the Sum of Natural Numbers?"
   ]
  },
  {
   "cell_type": "code",
   "execution_count": 19,
   "id": "effa43a1",
   "metadata": {},
   "outputs": [
    {
     "name": "stdout",
     "output_type": "stream",
     "text": [
      "enter number to find sum of natural number :56\n"
     ]
    },
    {
     "data": {
      "text/plain": [
       "1596.0"
      ]
     },
     "execution_count": 19,
     "metadata": {},
     "output_type": "execute_result"
    }
   ],
   "source": [
    "def sumofnos(num):\n",
    "    return num*(num+1)/2\n",
    "\n",
    "sumofnos(int(input(\"enter number to find sum of natural number :\")))"
   ]
  }
 ],
 "metadata": {
  "kernelspec": {
   "display_name": "Python 3 (ipykernel)",
   "language": "python",
   "name": "python3"
  },
  "language_info": {
   "codemirror_mode": {
    "name": "ipython",
    "version": 3
   },
   "file_extension": ".py",
   "mimetype": "text/x-python",
   "name": "python",
   "nbconvert_exporter": "python",
   "pygments_lexer": "ipython3",
   "version": "3.9.7"
  }
 },
 "nbformat": 4,
 "nbformat_minor": 5
}
