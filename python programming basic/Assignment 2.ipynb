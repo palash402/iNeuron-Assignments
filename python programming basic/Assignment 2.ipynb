{
 "cells": [
  {
   "cell_type": "markdown",
   "id": "2697a023",
   "metadata": {},
   "source": [
    "### Write a Python program to convert kilometers to miles?\n"
   ]
  },
  {
   "cell_type": "code",
   "execution_count": 4,
   "id": "e9c38c1d",
   "metadata": {},
   "outputs": [
    {
     "name": "stdout",
     "output_type": "stream",
     "text": [
      "enter kilometres : 5\n",
      "5.0 km is equal to 3.10685595  miles\n"
     ]
    }
   ],
   "source": [
    "# 1 kilometre is equal to 0.62137119 miles\n",
    "\n",
    "km=float(input(\"enter kilometres : \"))\n",
    "print(km,\"km is equal to\", 0.62137119*km, \" miles\")"
   ]
  },
  {
   "cell_type": "markdown",
   "id": "d65bb894",
   "metadata": {},
   "source": [
    "### Write a Python program to convert Celsius to Fahrenheit?"
   ]
  },
  {
   "cell_type": "code",
   "execution_count": 7,
   "id": "f25d1399",
   "metadata": {},
   "outputs": [
    {
     "name": "stdout",
     "output_type": "stream",
     "text": [
      "enter Celsius : 100\n",
      "100.0 °C is equal to 212.0 °F\n"
     ]
    }
   ],
   "source": [
    "# °F = °C × (9/5) + 32\n",
    "\n",
    "celsius=float(input(\"enter Celsius : \"))\n",
    "print(celsius,\"°C is equal to\", (9/5)*celsius+32, \"°F\")\n"
   ]
  },
  {
   "cell_type": "markdown",
   "id": "460115b1",
   "metadata": {},
   "source": [
    "\n",
    "### Write a Python program to display calendar?"
   ]
  },
  {
   "cell_type": "code",
   "execution_count": 11,
   "id": "65e14bc2",
   "metadata": {},
   "outputs": [
    {
     "name": "stdout",
     "output_type": "stream",
     "text": [
      "   February 2022\n",
      "Mo Tu We Th Fr Sa Su\n",
      "    1  2  3  4  5  6\n",
      " 7  8  9 10 11 12 13\n",
      "14 15 16 17 18 19 20\n",
      "21 22 23 24 25 26 27\n",
      "28\n",
      "\n"
     ]
    }
   ],
   "source": [
    "import calendar\n",
    "print(calendar.month(2022,2))"
   ]
  },
  {
   "cell_type": "markdown",
   "id": "250ad4bb",
   "metadata": {},
   "source": [
    "\n",
    "### Write a Python program to solve quadratic equation?"
   ]
  },
  {
   "cell_type": "code",
   "execution_count": 14,
   "id": "57011c4b",
   "metadata": {},
   "outputs": [
    {
     "name": "stdout",
     "output_type": "stream",
     "text": [
      "Let the quadratic equation be Ax^2+Bx+C=0\n",
      "Enter value of A : 2.3\n",
      "Enter value of B : 4\n",
      "Enter value of C : 5.6\n",
      "Roots/solution of quadratic equation 2.3x^24.0x5.6 are (-0.8695652173913043+1.2956229935435948j) and (-0.8695652173913044-1.2956229935435948j)\n"
     ]
    }
   ],
   "source": [
    "print(\"Let the quadratic equation be Ax^2+Bx+C=0\")\n",
    "A=float(input(\"Enter value of A : \"))\n",
    "B=float(input(\"Enter value of B : \"))\n",
    "C=float(input(\"Enter value of C : \"))\n",
    "root1= (-B+(B**2-4*A*C)**0.5)/(2*A)\n",
    "root2= (-B-(B**2-4*A*C)**0.5)/(2*A)\n",
    "equation= str(A)+\"x^2\"+str(B)+\"x\"+str(C)\n",
    "print(\"Roots/solution of quadratic equation\", equation, \"are\", root1, \"and\",root2)"
   ]
  },
  {
   "cell_type": "markdown",
   "id": "28c4ab72",
   "metadata": {},
   "source": [
    "\n",
    "### Write a Python program to swap two variables without temp variable?"
   ]
  },
  {
   "cell_type": "code",
   "execution_count": 15,
   "id": "0f2d56ef",
   "metadata": {},
   "outputs": [
    {
     "name": "stdout",
     "output_type": "stream",
     "text": [
      "enter value of a : 56\n",
      "enter value of b : 97\n",
      "values before swapping\n",
      "a =  56\n",
      "b =  97\n",
      "values after swapping\n",
      "a =  97\n",
      "b =  56\n"
     ]
    }
   ],
   "source": [
    "a=int(input(\"enter value of a : \"))\n",
    "b=int(input(\"enter value of b : \"))\n",
    "\n",
    "print(\"values before swapping\")\n",
    "print(\"a = \",a)\n",
    "print(\"b = \",b)\n",
    "\n",
    "a,b=b,a\n",
    "\n",
    "print(\"values after swapping\")\n",
    "print(\"a = \",a)\n",
    "print(\"b = \",b)\n"
   ]
  }
 ],
 "metadata": {
  "kernelspec": {
   "display_name": "Python 3 (ipykernel)",
   "language": "python",
   "name": "python3"
  },
  "language_info": {
   "codemirror_mode": {
    "name": "ipython",
    "version": 3
   },
   "file_extension": ".py",
   "mimetype": "text/x-python",
   "name": "python",
   "nbconvert_exporter": "python",
   "pygments_lexer": "ipython3",
   "version": "3.9.7"
  }
 },
 "nbformat": 4,
 "nbformat_minor": 5
}
