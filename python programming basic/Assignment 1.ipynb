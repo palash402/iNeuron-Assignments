{
 "cells": [
  {
   "cell_type": "markdown",
   "id": "35c2b906",
   "metadata": {},
   "source": [
    "1. Write a Python program to print \"Hello Python\"?"
   ]
  },
  {
   "cell_type": "code",
   "execution_count": 18,
   "id": "81ca2e00",
   "metadata": {},
   "outputs": [
    {
     "name": "stdout",
     "output_type": "stream",
     "text": [
      "Hello Python\n"
     ]
    }
   ],
   "source": [
    "print(\"Hello Python\")"
   ]
  },
  {
   "cell_type": "markdown",
   "id": "a2f04257",
   "metadata": {},
   "source": [
    "2. Write a Python program to do arithmetical operations addition and division.?"
   ]
  },
  {
   "cell_type": "code",
   "execution_count": 4,
   "id": "83732ae9",
   "metadata": {},
   "outputs": [
    {
     "name": "stdout",
     "output_type": "stream",
     "text": [
      "enter number98\n",
      "enter number2\n",
      "sum of  98  and  2 is equal to  100\n",
      "division of  98  and  2 is equal to  49.0\n"
     ]
    }
   ],
   "source": [
    "a=int(input(\"enter number\"))\n",
    "b=int(input(\"enter number\"))\n",
    "\n",
    "print(\"sum of \",str(a),\" and \",str(b), \"is equal to \", a+b)\n",
    "print(\"division of \",str(a),\" and \",str(b), \"is equal to \", a/b)"
   ]
  },
  {
   "cell_type": "markdown",
   "id": "dc6df0c7",
   "metadata": {},
   "source": [
    "3. Write a Python program to find the area of a triangle?"
   ]
  },
  {
   "cell_type": "code",
   "execution_count": 10,
   "id": "a9b83be8",
   "metadata": {},
   "outputs": [
    {
     "name": "stdout",
     "output_type": "stream",
     "text": [
      "enter length of first side of the triangle : 3\n",
      "enter length of second side of the triangle : 4\n",
      "enter length of third side of the triangle : 5\n",
      "area of triangle is :  6.0\n"
     ]
    }
   ],
   "source": [
    "a=int(input(\"enter length of first side of the triangle : \"))\n",
    "b=int(input(\"enter length of second side of the triangle : \"))\n",
    "c=int(input(\"enter length of third side of the triangle : \"))\n",
    "# Area of Triangle with 3 Sides Formula\n",
    "s=(a+b+c)/2\n",
    "area=(s*(s-a)*(s-b)*(s-c))**0.5\n",
    "print(\"area of triangle is : \",area)"
   ]
  },
  {
   "cell_type": "markdown",
   "id": "509a68e0",
   "metadata": {},
   "source": [
    "4. Write a Python program to swap two variables?"
   ]
  },
  {
   "cell_type": "code",
   "execution_count": 11,
   "id": "d31912e6",
   "metadata": {},
   "outputs": [
    {
     "name": "stdout",
     "output_type": "stream",
     "text": [
      "enter value of a : 56\n",
      "enter value of b : 93\n",
      "values before swapping\n",
      "a =  56\n",
      "b =  93\n",
      "values after swapping\n",
      "a =  93\n",
      "b =  56\n"
     ]
    }
   ],
   "source": [
    "a=int(input(\"enter value of a : \"))\n",
    "b=int(input(\"enter value of b : \"))\n",
    "\n",
    "print(\"values before swapping\")\n",
    "print(\"a = \",a)\n",
    "print(\"b = \",b)\n",
    "\n",
    "a,b=b,a\n",
    "\n",
    "print(\"values after swapping\")\n",
    "print(\"a = \",a)\n",
    "print(\"b = \",b)\n"
   ]
  },
  {
   "cell_type": "markdown",
   "id": "94760548",
   "metadata": {},
   "source": [
    "5. Write a Python program to generate a random number?"
   ]
  },
  {
   "cell_type": "code",
   "execution_count": 17,
   "id": "e1d375b3",
   "metadata": {},
   "outputs": [
    {
     "name": "stdout",
     "output_type": "stream",
     "text": [
      "0.9254212682231773\n",
      "5\n"
     ]
    }
   ],
   "source": [
    "import random\n",
    "print(random.random())\n",
    "print(random.randint(0,10))"
   ]
  },
  {
   "cell_type": "code",
   "execution_count": null,
   "id": "25067f5e",
   "metadata": {},
   "outputs": [],
   "source": []
  }
 ],
 "metadata": {
  "kernelspec": {
   "display_name": "Python 3 (ipykernel)",
   "language": "python",
   "name": "python3"
  },
  "language_info": {
   "codemirror_mode": {
    "name": "ipython",
    "version": 3
   },
   "file_extension": ".py",
   "mimetype": "text/x-python",
   "name": "python",
   "nbconvert_exporter": "python",
   "pygments_lexer": "ipython3",
   "version": "3.9.7"
  }
 },
 "nbformat": 4,
 "nbformat_minor": 5
}
